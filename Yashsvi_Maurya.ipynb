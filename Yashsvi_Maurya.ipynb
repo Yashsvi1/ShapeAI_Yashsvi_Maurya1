{
  "nbformat": 4,
  "nbformat_minor": 0,
  "metadata": {
    "colab": {
      "name": "Yashsvi Maurya.ipynb",
      "provenance": []
    },
    "kernelspec": {
      "name": "python3",
      "display_name": "Python 3"
    },
    "language_info": {
      "name": "python"
    }
  },
  "cells": [
    {
      "cell_type": "code",
      "metadata": {
        "colab": {
          "base_uri": "https://localhost:8080/"
        },
        "id": "tDD5bxRUubQf",
        "outputId": "1cc24d89-b0a0-41c6-ee69-eaa025af5d6e"
      },
      "source": [
        "import requests\n",
        "#import os\n",
        "from datetime import datetime\n",
        "\n",
        "api_key = '87d845b0b6cf29baa1a73cc34b067a95'\n",
        "location = input(\"Enter the city name: \")\n",
        "\n",
        "complete_api_link = \"https://api.openweathermap.org/data/2.5/weather?q=\"+location+\"&appid=\"+api_key\n",
        "api_link = requests.get(complete_api_link)\n",
        "api_data = api_link.json()\n",
        "\n",
        "#create variables to store and display data\n",
        "temp_city = ((api_data['main']['temp']) - 273.15)\n",
        "weather_desc = api_data['weather'][0]['description']\n",
        "hmdt = api_data['main']['humidity']\n",
        "wind_spd = api_data['wind']['speed']\n",
        "date_time = datetime.now().strftime(\"%d %b %Y | %I:%M:%S %p\")\n",
        "\n",
        "print (\"-------------------------------------------------------------\")\n",
        "print (\"Weather Stats for - {}  || {}\".format(location.upper(), date_time))\n",
        "print (\"-------------------------------------------------------------\")\n",
        "\n",
        "print (\"Current temperature is: {:.2f} deg C\".format(temp_city))\n",
        "print (\"Current weather desc  :\",weather_desc)\n",
        "print (\"Current Humidity      :\",hmdt, '%')\n",
        "print (\"Current wind speed    :\",wind_spd ,'kmph')"
      ],
      "execution_count": 1,
      "outputs": [
        {
          "output_type": "stream",
          "text": [
            "Enter the city name: Lucknow\n",
            "-------------------------------------------------------------\n",
            "Weather Stats for - LUCKNOW  || 22 Jun 2021 | 05:17:53 PM\n",
            "-------------------------------------------------------------\n",
            "Current temperature is: 30.99 deg C\n",
            "Current weather desc  : mist\n",
            "Current Humidity      : 84 %\n",
            "Current wind speed    : 1.03 kmph\n"
          ],
          "name": "stdout"
        }
      ]
    }
  ]
}